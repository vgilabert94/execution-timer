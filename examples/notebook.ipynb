{
 "cells": [
  {
   "cell_type": "markdown",
   "metadata": {},
   "source": [
    "## ExecutionTimer"
   ]
  },
  {
   "cell_type": "code",
   "execution_count": 1,
   "metadata": {},
   "outputs": [],
   "source": [
    "# Make sure that you have installed the package.\n",
    "# %pip install timer-decorator"
   ]
  },
  {
   "cell_type": "code",
   "execution_count": 2,
   "metadata": {},
   "outputs": [],
   "source": [
    "import time\n",
    "from execution_timer import ExecutionTimer, time_execution"
   ]
  },
  {
   "cell_type": "markdown",
   "metadata": {},
   "source": [
    "### Example 1: Measuring a function with the default settings."
   ]
  },
  {
   "cell_type": "code",
   "execution_count": 3,
   "metadata": {},
   "outputs": [
    {
     "name": "stdout",
     "output_type": "stream",
     "text": [
      "The 'sample_function' function was executed in 1.00009 seconds.\n",
      "None\n",
      "{'sample_function': [1.0000867999997354]}\n"
     ]
    }
   ],
   "source": [
    "# return_measure = False, nanoseconds = False, n_iter = 1, save_measure = True,\n",
    "timer = ExecutionTimer()\n",
    "\n",
    "@timer.time_execution\n",
    "def sample_function(n):\n",
    "    time.sleep(n)\n",
    "\n",
    "print(sample_function(n=1))\n",
    "print(timer.get_measured_time())"
   ]
  },
  {
   "cell_type": "code",
   "execution_count": 4,
   "metadata": {},
   "outputs": [],
   "source": [
    "# If you don't want to print anything:\n",
    "timer = ExecutionTimer(return_measure=True)\n",
    "\n",
    "@timer.time_execution\n",
    "def sample_function(n):\n",
    "    time.sleep(n)\n",
    "\n",
    "res, _ = sample_function(n=1)\n",
    "# or\n",
    "res = sample_function(n=1)[0]"
   ]
  },
  {
   "cell_type": "code",
   "execution_count": 5,
   "metadata": {},
   "outputs": [
    {
     "name": "stdout",
     "output_type": "stream",
     "text": [
      "The 'sample_function' function was executed in 1.00108 seconds.\n",
      "None\n"
     ]
    }
   ],
   "source": [
    "# return_measure=False, nanoseconds = False, n_iter = 1, return_average = True,\n",
    "@time_execution\n",
    "def sample_function(n):\n",
    "    time.sleep(n)\n",
    "\n",
    "print(sample_function(n=1))"
   ]
  },
  {
   "cell_type": "markdown",
   "metadata": {},
   "source": [
    "### Example 2: Measuring N iterations"
   ]
  },
  {
   "cell_type": "code",
   "execution_count": 6,
   "metadata": {},
   "outputs": [
    {
     "name": "stdout",
     "output_type": "stream",
     "text": [
      "The 'sample_function' function was executed in 1.00087 seconds.\n",
      "None\n",
      "{'sample_function': [1.001057975000549, 1.0010461629999554, 1.001025899000524, 1.0010715339994931, 1.0008736999998291]}\n",
      "{'sample_function': 1.0010150542000702}\n"
     ]
    }
   ],
   "source": [
    "timer = ExecutionTimer(n_iter=5)\n",
    "\n",
    "@timer.time_execution\n",
    "def sample_function(n):\n",
    "    time.sleep(n)\n",
    "\n",
    "print(sample_function(n=1))\n",
    "print(timer.get_measured_time())\n",
    "print(timer.average_measured_time())"
   ]
  },
  {
   "cell_type": "code",
   "execution_count": 7,
   "metadata": {},
   "outputs": [
    {
     "name": "stdout",
     "output_type": "stream",
     "text": [
      "Iterations: 5. The 'sample_function' function was executed in an average of 1.00088 seconds per iteration.\n",
      "None\n"
     ]
    }
   ],
   "source": [
    "@time_execution(n_iter=5)\n",
    "def sample_function(n):\n",
    "    time.sleep(n)\n",
    "\n",
    "print(sample_function(n=1))"
   ]
  },
  {
   "cell_type": "markdown",
   "metadata": {},
   "source": [
    "### Example 3: Use nanoseconds."
   ]
  },
  {
   "cell_type": "code",
   "execution_count": 8,
   "metadata": {},
   "outputs": [
    {
     "name": "stdout",
     "output_type": "stream",
     "text": [
      "The 'sample_function' function was executed in 382410.00000 nanoseconds.\n",
      "None\n"
     ]
    }
   ],
   "source": [
    "et = ExecutionTimer(nanoseconds=True)\n",
    "\n",
    "# Example usage\n",
    "@et.time_execution()\n",
    "def sample_function(n):\n",
    "    time.sleep(n)\n",
    "\n",
    "# Running the example function multiple times\n",
    "res = sample_function(0.0001)\n",
    "print(res)"
   ]
  },
  {
   "cell_type": "code",
   "execution_count": 9,
   "metadata": {},
   "outputs": [
    {
     "name": "stdout",
     "output_type": "stream",
     "text": [
      "The 'sample_function' function was executed in 341650.00000 nanoseconds.\n",
      "None\n"
     ]
    }
   ],
   "source": [
    "@time_execution(nanoseconds=True)\n",
    "def sample_function(n):\n",
    "    time.sleep(n)\n",
    "\n",
    "res = sample_function(n=0.0001)\n",
    "print(res)"
   ]
  },
  {
   "cell_type": "markdown",
   "metadata": {},
   "source": [
    "### Example 4: Measuring a function with printing the measured time and not saving it in a dictionary."
   ]
  },
  {
   "cell_type": "code",
   "execution_count": 10,
   "metadata": {},
   "outputs": [
    {
     "name": "stdout",
     "output_type": "stream",
     "text": [
      "The 'sample_function' function was executed in 1.00105 seconds.\n",
      "None\n",
      "{}\n"
     ]
    }
   ],
   "source": [
    "timer = ExecutionTimer(save_measure=False)\n",
    "\n",
    "@timer.time_execution\n",
    "def sample_function(n):\n",
    "    time.sleep(n)\n",
    "\n",
    "print(sample_function(n=1))\n",
    "print(timer.get_measured_time())"
   ]
  },
  {
   "cell_type": "markdown",
   "metadata": {},
   "source": [
    "### Example 5: Measuring a function with no printing the measured time and not saving it in a dictionary."
   ]
  },
  {
   "cell_type": "code",
   "execution_count": 11,
   "metadata": {},
   "outputs": [
    {
     "name": "stdout",
     "output_type": "stream",
     "text": [
      "None\n"
     ]
    }
   ],
   "source": [
    "timer = ExecutionTimer(save_measure=False, return_measure=True)\n",
    "\n",
    "@timer.time_execution\n",
    "def sample_function(n):\n",
    "    time.sleep(n)\n",
    "\n",
    "res = sample_function(n=1)[0]\n",
    "print(res)"
   ]
  },
  {
   "cell_type": "markdown",
   "metadata": {},
   "source": [
    "### Example 6: Return_measured can be configured for each decorator.\n",
    "\n",
    "If the `return_measured` flag is set in the decorator, this value will be used. "
   ]
  },
  {
   "cell_type": "code",
   "execution_count": 12,
   "metadata": {},
   "outputs": [
    {
     "name": "stdout",
     "output_type": "stream",
     "text": [
      "(None, 1.0010730449994298)\n",
      "The 'sample_function_v2' function was executed in 1.00073 seconds.\n",
      "None\n",
      "{'sample_function': [1.0010730449994298], 'sample_function_v2': [1.0007344619998548]}\n"
     ]
    }
   ],
   "source": [
    "timer = ExecutionTimer(return_measure=True)\n",
    "\n",
    "@timer.time_execution()\n",
    "def sample_function(n):\n",
    "    time.sleep(n)\n",
    "\n",
    "@timer.time_execution(return_measure=False)\n",
    "def sample_function_v2(n):\n",
    "    time.sleep(n)\n",
    "\n",
    "print(sample_function(n=1))\n",
    "print(sample_function_v2(n=1))\n",
    "print(timer.get_measured_time())"
   ]
  },
  {
   "cell_type": "code",
   "execution_count": null,
   "metadata": {},
   "outputs": [],
   "source": []
  },
  {
   "cell_type": "markdown",
   "metadata": {},
   "source": [
    "### Example 7: Measuring and return measured of same function."
   ]
  },
  {
   "cell_type": "code",
   "execution_count": 13,
   "metadata": {},
   "outputs": [
    {
     "name": "stdout",
     "output_type": "stream",
     "text": [
      "(None, 1.0006424180000977)\n",
      "(None, 1.0010477550003998)\n",
      "(None, 1.0003784609998547)\n",
      "{'sample_function': [1.0006424180000977, 1.0010477550003998, 1.0003784609998547]}\n"
     ]
    }
   ],
   "source": [
    "timer = ExecutionTimer(return_measure=True)\n",
    "\n",
    "@timer.time_execution()\n",
    "def sample_function(n):\n",
    "    time.sleep(n)\n",
    "\n",
    "print(sample_function(n=1))\n",
    "print(sample_function(n=1))\n",
    "print(sample_function(n=1))\n",
    "print(timer.get_measured_time())"
   ]
  },
  {
   "cell_type": "code",
   "execution_count": 14,
   "metadata": {},
   "outputs": [
    {
     "name": "stdout",
     "output_type": "stream",
     "text": [
      "(None, 1.001045449999765)\n",
      "(None, 1.0009869650002656)\n",
      "(None, 1.001731454000037)\n"
     ]
    }
   ],
   "source": [
    "@time_execution(return_measure=True)\n",
    "def sample_function(n):\n",
    "    time.sleep(n)\n",
    "\n",
    "print(sample_function(n=1))\n",
    "print(sample_function(n=1))\n",
    "print(sample_function(n=1))"
   ]
  },
  {
   "cell_type": "markdown",
   "metadata": {},
   "source": [
    "### Example 8: Measuring a Method from a class"
   ]
  },
  {
   "cell_type": "code",
   "execution_count": 15,
   "metadata": {},
   "outputs": [
    {
     "name": "stdout",
     "output_type": "stream",
     "text": [
      "(None, 1.0002362490004089)\n",
      "The 'sample_method_x2' function was executed in 2.00203 seconds.\n",
      "None\n",
      "{'SampleClass': {'sample_method': [1.0002362490004089], 'sample_method_x2': [2.0020319710001786]}}\n"
     ]
    }
   ],
   "source": [
    "timer = ExecutionTimer()\n",
    "\n",
    "class SampleClass:\n",
    "    def __init__(self):\n",
    "        pass\n",
    "\n",
    "    @timer.time_execution(return_measure=True)\n",
    "    def sample_method(self, n):\n",
    "        time.sleep(n)\n",
    "\n",
    "    @timer.time_execution\n",
    "    def sample_method_x2(self, n):\n",
    "        time.sleep(2*n)\n",
    "\n",
    "sample = SampleClass()\n",
    "print(sample.sample_method(n=1))\n",
    "print(sample.sample_method_x2(n=1))\n",
    "print(timer.get_measured_time())"
   ]
  },
  {
   "cell_type": "markdown",
   "metadata": {},
   "source": [
    "### Example 9: Use return average of 5 iterations."
   ]
  },
  {
   "cell_type": "code",
   "execution_count": 16,
   "metadata": {},
   "outputs": [
    {
     "name": "stdout",
     "output_type": "stream",
     "text": [
      "Iterations: 5. The 'sample_function' function was executed in an average of 1.00087 seconds per iteration.\n",
      "None\n"
     ]
    }
   ],
   "source": [
    "# Only print the average of 5 iterations.\n",
    "\n",
    "@time_execution(return_average=True, n_iter=5)\n",
    "def sample_function(n):\n",
    "    time.sleep(n)\n",
    "\n",
    "print(sample_function(n=1))"
   ]
  },
  {
   "cell_type": "code",
   "execution_count": 17,
   "metadata": {},
   "outputs": [
    {
     "name": "stdout",
     "output_type": "stream",
     "text": [
      "(None, 1.00100923480004)\n"
     ]
    }
   ],
   "source": [
    "# Return the aberage of 5 iterations.\n",
    "# return_average=True, n_iter=5, return_measure=True\n",
    "\n",
    "@time_execution(return_average=True, n_iter=5, return_measure=True)\n",
    "def sample_function(n):\n",
    "    time.sleep(n)\n",
    "\n",
    "print(sample_function(n=1))"
   ]
  }
 ],
 "metadata": {
  "kernelspec": {
   "display_name": "kornia",
   "language": "python",
   "name": "python3"
  },
  "language_info": {
   "codemirror_mode": {
    "name": "ipython",
    "version": 3
   },
   "file_extension": ".py",
   "mimetype": "text/x-python",
   "name": "python",
   "nbconvert_exporter": "python",
   "pygments_lexer": "ipython3",
   "version": "3.10.14"
  }
 },
 "nbformat": 4,
 "nbformat_minor": 2
}
