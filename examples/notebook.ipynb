{
 "cells": [
  {
   "cell_type": "markdown",
   "metadata": {},
   "source": [
    "## ExecutionTimer"
   ]
  },
  {
   "cell_type": "code",
   "execution_count": null,
   "metadata": {},
   "outputs": [],
   "source": [
    "# !pip install timer-decorator"
   ]
  },
  {
   "cell_type": "code",
   "execution_count": 2,
   "metadata": {},
   "outputs": [],
   "source": [
    "import time\n",
    "from execution_timer import ExecutionTimer"
   ]
  },
  {
   "cell_type": "markdown",
   "metadata": {},
   "source": [
    "### Example 1: Measuring a function with the default settings."
   ]
  },
  {
   "cell_type": "code",
   "execution_count": 3,
   "metadata": {},
   "outputs": [
    {
     "name": "stdout",
     "output_type": "stream",
     "text": [
      "None\n",
      "{'sample_function': [2.000091597001301]}\n"
     ]
    }
   ],
   "source": [
    "timer = ExecutionTimer()\n",
    "\n",
    "@timer.time_execution\n",
    "def sample_function(n):\n",
    "    time.sleep(n)\n",
    "\n",
    "print(sample_function(n=2))\n",
    "print(timer.get_measured_time())"
   ]
  },
  {
   "cell_type": "markdown",
   "metadata": {},
   "source": [
    "### Example 2: Measuring a function with printing the measured time and not saving it in a dictionary."
   ]
  },
  {
   "cell_type": "code",
   "execution_count": 4,
   "metadata": {},
   "outputs": [
    {
     "name": "stdout",
     "output_type": "stream",
     "text": [
      "Function 'sample_function' executed in 2.00009 seconds.\n",
      "None\n",
      "{}\n"
     ]
    }
   ],
   "source": [
    "timer = ExecutionTimer(save_measure=False)\n",
    "\n",
    "@timer.time_execution(print_measure=True)\n",
    "def sample_function(n):\n",
    "    time.sleep(n)\n",
    "\n",
    "print(sample_function(n=2))\n",
    "print(timer.get_measured_time())"
   ]
  },
  {
   "cell_type": "markdown",
   "metadata": {},
   "source": [
    "### Example 3: Measuring a function with returning the measured time without saving it in a dictionary."
   ]
  },
  {
   "cell_type": "code",
   "execution_count": 5,
   "metadata": {},
   "outputs": [
    {
     "name": "stdout",
     "output_type": "stream",
     "text": [
      "(None, 2.0000932100010687)\n",
      "{}\n"
     ]
    }
   ],
   "source": [
    "timer = ExecutionTimer(save_measure=False)\n",
    "\n",
    "@timer.time_execution(return_measure=True)\n",
    "def sample_function(n):\n",
    "    time.sleep(n)\n",
    "\n",
    "print(sample_function(n=2))\n",
    "print(timer.get_measured_time())"
   ]
  },
  {
   "cell_type": "markdown",
   "metadata": {},
   "source": [
    "### Example 4: Measuring N iterations"
   ]
  },
  {
   "cell_type": "code",
   "execution_count": 6,
   "metadata": {},
   "outputs": [
    {
     "name": "stdout",
     "output_type": "stream",
     "text": [
      "None\n",
      "{'sample_function': [1.0001081390000763, 1.000089270000899, 1.000096499999927, 1.0000920189995668, 1.0000852689991007]}\n",
      "{'sample_function': 1.000094239399914}\n"
     ]
    }
   ],
   "source": [
    "timer = ExecutionTimer(n_iter=5)\n",
    "\n",
    "@timer.time_execution()\n",
    "def sample_function(n):\n",
    "    time.sleep(n)\n",
    "\n",
    "print(sample_function(n=1))\n",
    "print(timer.get_measured_time())\n",
    "print(timer.average_measured_time())"
   ]
  },
  {
   "cell_type": "markdown",
   "metadata": {},
   "source": [
    "### Example 5: Measuring and return measured of same function."
   ]
  },
  {
   "cell_type": "code",
   "execution_count": 7,
   "metadata": {},
   "outputs": [
    {
     "name": "stdout",
     "output_type": "stream",
     "text": [
      "(None, 2.0000985759979812)\n",
      "(None, 3.000083035996795)\n",
      "(None, 4.000130067997816)\n",
      "{'sample_function': [2.0000985759979812, 3.000083035996795, 4.000130067997816]}\n"
     ]
    }
   ],
   "source": [
    "timer = ExecutionTimer()\n",
    "\n",
    "@timer.time_execution(return_measure=True)\n",
    "def sample_function(n):\n",
    "    time.sleep(n)\n",
    "\n",
    "print(sample_function(n=2))\n",
    "print(sample_function(n=3))\n",
    "print(sample_function(n=4))\n",
    "print(timer.get_measured_time())"
   ]
  },
  {
   "cell_type": "markdown",
   "metadata": {},
   "source": [
    "### Example 6: Measuring a Method from a class"
   ]
  },
  {
   "cell_type": "code",
   "execution_count": 8,
   "metadata": {},
   "outputs": [
    {
     "name": "stdout",
     "output_type": "stream",
     "text": [
      "(None, 2.0000870780022524)\n",
      "None\n",
      "{'SampleClass': {'sample_method': [2.0000870780022524], 'sample_method_x2': [4.000095144001534]}}\n"
     ]
    }
   ],
   "source": [
    "timer = ExecutionTimer()\n",
    "\n",
    "class SampleClass:\n",
    "    def __init__(self):\n",
    "        pass\n",
    "\n",
    "    @timer.time_execution(return_measure=True)\n",
    "    def sample_method(self, n):\n",
    "        time.sleep(n)\n",
    "\n",
    "    @timer.time_execution\n",
    "    def sample_method_x2(self, n):\n",
    "        time.sleep(2*n)\n",
    "\n",
    "sample = SampleClass()\n",
    "print(sample.sample_method(n=2))\n",
    "print(sample.sample_method_x2(n=2))\n",
    "print(timer.get_measured_time())"
   ]
  },
  {
   "cell_type": "markdown",
   "metadata": {},
   "source": [
    "### Example 7: All params true."
   ]
  },
  {
   "cell_type": "code",
   "execution_count": 9,
   "metadata": {},
   "outputs": [
    {
     "name": "stdout",
     "output_type": "stream",
     "text": [
      "Function 'multiply' executed in 0.39485 seconds.\n",
      "Function 'multiply' executed in 0.36891 seconds.\n",
      "Function 'multiply' executed in 0.35922 seconds.\n",
      "Function 'multiply' executed in 0.35964 seconds.\n",
      "Function 'multiply' executed in 0.35690 seconds.\n",
      "{'multiply': [0.39484530800109496, 0.3689073660025315, 0.3592242569975497, 0.3596395759996085, 0.3569030519975058]}\n",
      "{'multiply': 0.3679039117996581}\n"
     ]
    }
   ],
   "source": [
    "et = ExecutionTimer(save_measure=True, n_iter=5)\n",
    "\n",
    "# Example usage\n",
    "@et.time_execution(return_measure=True, print_measure=True)\n",
    "def multiply(n):\n",
    "    return sum([i * j for i in range(1, n, 1) for j in range(n, 1, -1)])\n",
    "\n",
    "\n",
    "# Running the example function multiple times\n",
    "res = multiply(2500)\n",
    "\n",
    "times_result = et.get_measured_time()\n",
    "print(times_result)\n",
    "avg_result = et.average_measured_time()\n",
    "print(avg_result)\n"
   ]
  },
  {
   "cell_type": "markdown",
   "metadata": {},
   "source": [
    "### Example 8: Use nanoseconds."
   ]
  },
  {
   "cell_type": "code",
   "execution_count": 12,
   "metadata": {},
   "outputs": [
    {
     "name": "stdout",
     "output_type": "stream",
     "text": [
      "Function 'sample_function' executed in 569663.00000 nanoseconds.\n",
      "Function 'sample_function' executed in 392956.00000 nanoseconds.\n",
      "Function 'sample_function' executed in 491474.00000 nanoseconds.\n",
      "Function 'sample_function' executed in 164788.00000 nanoseconds.\n",
      "Function 'sample_function' executed in 165958.00000 nanoseconds.\n"
     ]
    }
   ],
   "source": [
    "et = ExecutionTimer(nanoseconds=True, save_measure=False, n_iter=5)\n",
    "\n",
    "# Example usage\n",
    "@et.time_execution(print_measure=True)\n",
    "def sample_function(n):\n",
    "    time.sleep(n)\n",
    "\n",
    "\n",
    "# Running the example function multiple times\n",
    "res = sample_function(0.0001)"
   ]
  }
 ],
 "metadata": {
  "kernelspec": {
   "display_name": "kornia",
   "language": "python",
   "name": "python3"
  },
  "language_info": {
   "codemirror_mode": {
    "name": "ipython",
    "version": 3
   },
   "file_extension": ".py",
   "mimetype": "text/x-python",
   "name": "python",
   "nbconvert_exporter": "python",
   "pygments_lexer": "ipython3",
   "version": "3.11.9"
  }
 },
 "nbformat": 4,
 "nbformat_minor": 2
}
